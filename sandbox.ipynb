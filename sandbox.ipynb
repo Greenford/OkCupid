{
 "cells": [
  {
   "cell_type": "code",
   "execution_count": 1,
   "metadata": {},
   "outputs": [],
   "source": [
    "import sys\n",
    "d = !pwd\n",
    "d = d[0]\n",
    "sys.path.append(d+'/src')\n",
    "%load_ext autoreload\n",
    "%autoreload 1\n",
    "%aimport okc_scraper_controller\n",
    "import os, requests\n",
    "from urllib.parse import urlparse"
   ]
  },
  {
   "cell_type": "markdown",
   "metadata": {},
   "source": [
    "### Test the collecting of usernames"
   ]
  },
  {
   "cell_type": "code",
   "execution_count": null,
   "metadata": {},
   "outputs": [],
   "source": [
    "loginOKC(driver, user['email'], user['pw'])\n",
    "s = collect_usernames(driver, okc_users)\n",
    "logout(driver)\n",
    "print(len(s))"
   ]
  },
  {
   "cell_type": "markdown",
   "metadata": {},
   "source": [
    "### Sandbox for scraping questions"
   ]
  },
  {
   "cell_type": "code",
   "execution_count": null,
   "metadata": {},
   "outputs": [],
   "source": [
    "controller = Controller('ren')\n",
    "scraper = controller.scraper\n",
    "scraper.login()\n",
    "usernames = scraper.collect_usernames()\n",
    "userdata = []\n",
    "for i in range(10):\n",
    "    userdata.append(scraper.scrape_user(usernames.pop()))"
   ]
  },
  {
   "cell_type": "markdown",
   "metadata": {},
   "source": [
    "### Saving images"
   ]
  },
  {
   "cell_type": "code",
   "execution_count": null,
   "metadata": {},
   "outputs": [],
   "source": [
    "controller = Controller('ren')\n",
    "scraper = controller.scraper\n",
    "scraper.login()\n",
    "driver = scraper.driver\n",
    "scraper.scrape_user('live_images', 'AriaMermaid')"
   ]
  },
  {
   "cell_type": "markdown",
   "metadata": {},
   "source": [
    "### Answering all the questions"
   ]
  },
  {
   "cell_type": "code",
   "execution_count": null,
   "metadata": {},
   "outputs": [],
   "source": [
    "import time\n",
    "from selenium.common.exceptions import ElementClickInterceptedException"
   ]
  },
  {
   "cell_type": "code",
   "execution_count": null,
   "metadata": {},
   "outputs": [],
   "source": [
    "controller = Controller('ren')\n",
    "scraper = controller.scraper\n",
    "scraper.login()\n",
    "driver = scraper.driver"
   ]
  },
  {
   "cell_type": "code",
   "execution_count": null,
   "metadata": {},
   "outputs": [],
   "source": [
    "driver.get('https://www.okcupid.com/profile')\n",
    "time.sleep(2+np.random.exponential())\n",
    "driver.find_element_by_class_name('profile-selfview-questions-more').click()\n",
    "time.sleep(2+np.random.exponential())"
   ]
  },
  {
   "cell_type": "code",
   "execution_count": null,
   "metadata": {},
   "outputs": [],
   "source": [
    "importance_answer = 1\n",
    "#driver.find_element_by_class_name('profile-questions-next-actions-button--answer').click()\n",
    "#time.sleep(1)\n",
    "answercount = 0\n",
    "\n",
    "#while True:\n",
    "try:\n",
    "#        time.sleep(0.75)\n",
    "    your_answer_buttons = driver.find_element_by_class_name('pickonebutton-buttons')\\\n",
    "        .find_elements_by_tag_name('button')\n",
    "    acceptable_answers = driver.find_element_by_class_name('pickmanybuttons-buttons')\\\n",
    "        .find_elements_by_tag_name('button')\n",
    "    importance_buttons = driver.find_element_by_class_name('importance-pickonebutton-buttons')\\\n",
    "        .find_elements_by_tag_name('button')\n",
    "    answer = int(np.random.uniform()*len(your_answer_buttons))\n",
    "    your_answer_buttons[answer].click()\n",
    "    acceptable_answers[answer].click()\n",
    "    importance_buttons[importance_answer].click()\n",
    "    driver.find_element_by_class_name('questionspage-buttons-button--answer').click()\n",
    "except ElementClickInterceptedException:\n",
    "    pass#continue"
   ]
  },
  {
   "cell_type": "code",
   "execution_count": null,
   "metadata": {},
   "outputs": [],
   "source": [
    "d"
   ]
  },
  {
   "cell_type": "markdown",
   "metadata": {},
   "source": [
    "### Scraping Questions"
   ]
  },
  {
   "cell_type": "code",
   "execution_count": null,
   "metadata": {},
   "outputs": [],
   "source": [
    "from selenium.webdriver.common.keys import Keys\n",
    "controller = Controller('ren')\n",
    "scraper = controller.scraper\n",
    "scraper.login()\n",
    "driver = scraper.driver\n"
   ]
  },
  {
   "cell_type": "markdown",
   "metadata": {},
   "source": [
    "### Maintaining Versions while answering new questions"
   ]
  },
  {
   "cell_type": "code",
   "execution_count": 2,
   "metadata": {},
   "outputs": [
    {
     "name": "stdout",
     "output_type": "stream",
     "text": [
      "/bin/sh: 1: cd: can't cd to ~/Documents/DSI/projects/okc\r\n"
     ]
    }
   ],
   "source": [
    "!cd '~/Documents/DSI/projects/okc'"
   ]
  },
  {
   "cell_type": "code",
   "execution_count": 6,
   "metadata": {},
   "outputs": [],
   "source": [
    "Scraper = okc_scraper_controller.Scraper\n",
    "ren=Scraper('ren')\n",
    "ren.driver.get('https://www.okcupid.com/login')"
   ]
  },
  {
   "cell_type": "code",
   "execution_count": 8,
   "metadata": {},
   "outputs": [],
   "source": [
    "result = ren.driver.find_element_by_class_name('optanon-alert-box-bg')"
   ]
  },
  {
   "cell_type": "code",
   "execution_count": 10,
   "metadata": {},
   "outputs": [
    {
     "data": {
      "text/plain": [
       "'<div class=\"optanon-alert-box-bg\"><div class=\"optanon-alert-box-logo\"> </div><div class=\"optanon-alert-box-body\"><p class=\"optanon-alert-box-title legacy-banner-title sr-only\" id=\"alert-box-title\" role=\"heading\" aria-level=\"2\">Cookie Notice</p><p class=\"banner-content\" id=\"alert-box-message\">We use cookies to personalize content and ads, to provide social media features and to analyse our traffic. We also share information about your use of our site with our social media, advertising and analytics partners. You may read more about any of the purposes or vendors that we use by clicking \\'Show Purposes\\' or View Vendors. <br><br>\\n<strong>Purposes we use: </strong>\\nPersonalisation |Ad selection, delivery, reporting | Measurement | Content selection, delivery, reporting|Information storage and access<a href=\"#\" id=\"ot-show-vendorlist-link\" onclick=\" (function() {var elements = document.getElementById(\\'optanon-vendor-consent-text\\');if(elements) {elements.click(); Optanon.ToggleInfoDisplay();  }})();\" class=\"banner-policy-link\" tabindex=\"1\" aria-label=\"Show Vendors\">Show Vendors</a>\\n    </p></div><div class=\"optanon-clearfix\"></div><div class=\"optanon-alert-box-button-container\"><div class=\"optanon-alert-box-button optanon-button-close\"><div class=\"optanon-alert-box-button-middle\"><button class=\"optanon-alert-box-close\" aria-label=\"Close\">Close</button></div></div><div class=\"optanon-alert-box-button optanon-button-allow\"><div class=\"optanon-alert-box-button-middle accept-cookie-container\"><button class=\"optanon-allow-all accept-cookies-button\" title=\"Accept Cookies\" aria-label=\"Accept Cookies\" onclick=\"Optanon.TriggerGoogleAnalyticsEvent(\\'OneTrust Cookie Consent\\', \\'Banner Accept Cookies\\');\" tabindex=\"3\">Accept Cookies</button></div></div><div class=\"optanon-alert-box-button optanon-button-more\"><div class=\"optanon-alert-box-button-middle\"><button class=\"optanon-toggle-display cookie-settings-button\" title=\"Show Purposes\" aria-label=\"Show Purposes\" onclick=\"Optanon.TriggerGoogleAnalyticsEvent(\\'OneTrust Cookie Consent\\', \\'Banner Open Preferences\\');\" tabindex=\"2\">Show Purposes</button></div></div></div><div class=\"optanon-clearfix optanon-alert-box-bottom-padding\"></div></div>'"
      ]
     },
     "execution_count": 10,
     "metadata": {},
     "output_type": "execute_result"
    }
   ],
   "source": [
    "result.get_attribute('outerHTML')\n"
   ]
  },
  {
   "cell_type": "code",
   "execution_count": 11,
   "metadata": {},
   "outputs": [
    {
     "data": {
      "text/plain": [
       "\"Cookie Notice\\nWe use cookies to personalize content and ads, to provide social media features and to analyse our traffic. We also share information about your use of our site with our social media, advertising and analytics partners. You may read more about any of the purposes or vendors that we use by clicking 'Show Purposes' or View Vendors.\\n\\nPurposes we use: Personalisation |Ad selection, delivery, reporting | Measurement | Content selection, delivery, reporting|Information storage and accessShow Vendors\\nAccept Cookies\\nShow Purposes\""
      ]
     },
     "execution_count": 11,
     "metadata": {},
     "output_type": "execute_result"
    }
   ],
   "source": [
    "result.text"
   ]
  },
  {
   "cell_type": "code",
   "execution_count": null,
   "metadata": {},
   "outputs": [],
   "source": []
  }
 ],
 "metadata": {
  "kernelspec": {
   "display_name": "Python 3",
   "language": "python",
   "name": "python3"
  },
  "language_info": {
   "codemirror_mode": {
    "name": "ipython",
    "version": 3
   },
   "file_extension": ".py",
   "mimetype": "text/x-python",
   "name": "python",
   "nbconvert_exporter": "python",
   "pygments_lexer": "ipython3",
   "version": "3.7.5"
  }
 },
 "nbformat": 4,
 "nbformat_minor": 2
}
