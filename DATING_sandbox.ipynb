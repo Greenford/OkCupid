{
 "cells": [
  {
   "cell_type": "code",
   "execution_count": 2,
   "metadata": {},
   "outputs": [],
   "source": [
    "import sys\n",
    "d = !pwd\n",
    "d = d[0]\n",
    "sys.path.append(d+'/src')\n",
    "%load_ext autoreload\n",
    "%autoreload 1\n",
    "%aimport okc_scraper_controller\n",
    "import os, requests\n",
    "from urllib.parse import urlparse"
   ]
  },
  {
   "cell_type": "markdown",
   "metadata": {},
   "source": [
    "### Test the collecting of usernames"
   ]
  },
  {
   "cell_type": "code",
   "execution_count": null,
   "metadata": {},
   "outputs": [],
   "source": [
    "loginOKC(driver, user['email'], user['pw'])\n",
    "s = collect_usernames(driver, okc_users)\n",
    "logout(driver)\n",
    "print(len(s))"
   ]
  },
  {
   "cell_type": "markdown",
   "metadata": {},
   "source": [
    "### Sandbox for scraping questions"
   ]
  },
  {
   "cell_type": "code",
   "execution_count": null,
   "metadata": {},
   "outputs": [],
   "source": [
    "controller = Controller('ren')\n",
    "scraper = controller.scraper\n",
    "scraper.login()\n",
    "usernames = scraper.collect_usernames()\n",
    "userdata = []\n",
    "for i in range(10):\n",
    "    userdata.append(scraper.scrape_user(usernames.pop()))"
   ]
  },
  {
   "cell_type": "markdown",
   "metadata": {},
   "source": [
    "### Saving images"
   ]
  },
  {
   "cell_type": "code",
   "execution_count": null,
   "metadata": {},
   "outputs": [],
   "source": [
    "controller = Controller('ren')\n",
    "scraper = controller.scraper\n",
    "scraper.login()\n",
    "driver = scraper.driver\n",
    "scraper.scrape_user('live_images', 'AriaMermaid')"
   ]
  },
  {
   "cell_type": "markdown",
   "metadata": {},
   "source": [
    "### Answering all the questions"
   ]
  },
  {
   "cell_type": "code",
   "execution_count": null,
   "metadata": {},
   "outputs": [],
   "source": [
    "import time\n",
    "from selenium.common.exceptions import ElementClickInterceptedException"
   ]
  },
  {
   "cell_type": "code",
   "execution_count": null,
   "metadata": {},
   "outputs": [],
   "source": [
    "controller = Controller('ren')\n",
    "scraper = controller.scraper\n",
    "scraper.login()\n",
    "driver = scraper.driver"
   ]
  },
  {
   "cell_type": "code",
   "execution_count": null,
   "metadata": {},
   "outputs": [],
   "source": [
    "driver.get('https://www.okcupid.com/profile')\n",
    "time.sleep(2+np.random.exponential())\n",
    "driver.find_element_by_class_name('profile-selfview-questions-more').click()\n",
    "time.sleep(2+np.random.exponential())"
   ]
  },
  {
   "cell_type": "code",
   "execution_count": null,
   "metadata": {},
   "outputs": [],
   "source": [
    "importance_answer = 1\n",
    "#driver.find_element_by_class_name('profile-questions-next-actions-button--answer').click()\n",
    "#time.sleep(1)\n",
    "answercount = 0\n",
    "\n",
    "#while True:\n",
    "try:\n",
    "#        time.sleep(0.75)\n",
    "    your_answer_buttons = driver.find_element_by_class_name('pickonebutton-buttons')\\\n",
    "        .find_elements_by_tag_name('button')\n",
    "    acceptable_answers = driver.find_element_by_class_name('pickmanybuttons-buttons')\\\n",
    "        .find_elements_by_tag_name('button')\n",
    "    importance_buttons = driver.find_element_by_class_name('importance-pickonebutton-buttons')\\\n",
    "        .find_elements_by_tag_name('button')\n",
    "    answer = int(np.random.uniform()*len(your_answer_buttons))\n",
    "    your_answer_buttons[answer].click()\n",
    "    acceptable_answers[answer].click()\n",
    "    importance_buttons[importance_answer].click()\n",
    "    driver.find_element_by_class_name('questionspage-buttons-button--answer').click()\n",
    "except ElementClickInterceptedException:\n",
    "    pass#continue"
   ]
  },
  {
   "cell_type": "code",
   "execution_count": null,
   "metadata": {},
   "outputs": [],
   "source": [
    "d"
   ]
  },
  {
   "cell_type": "markdown",
   "metadata": {},
   "source": [
    "### Scraping Questions"
   ]
  },
  {
   "cell_type": "code",
   "execution_count": null,
   "metadata": {},
   "outputs": [],
   "source": [
    "from selenium.webdriver.common.keys import Keys\n",
    "controller = Controller('ren')\n",
    "scraper = controller.scraper\n",
    "scraper.login()\n",
    "driver = scraper.driver\n"
   ]
  },
  {
   "cell_type": "markdown",
   "metadata": {},
   "source": [
    "### Maintaining Versions while answering new questions"
   ]
  },
  {
   "cell_type": "code",
   "execution_count": 25,
   "metadata": {},
   "outputs": [],
   "source": [
    "Scraper = okc_scraper_controller.Scraper\n",
    "greg=Scraper('greg', headless=False)\n",
    "greg.login()\n",
    "ron = Scraper('ron', headless=False)\n",
    "ron.login()\n"
   ]
  },
  {
   "cell_type": "code",
   "execution_count": 28,
   "metadata": {},
   "outputs": [],
   "source": [
    "stub = greg.driver.find_element_by_class_name('profile-question')"
   ]
  },
  {
   "cell_type": "code",
   "execution_count": 43,
   "metadata": {},
   "outputs": [],
   "source": [
    "def get_data_from_answer_stub(stub):\n",
    "    text = stub.find_element_by_tag_name('h3').text\n",
    "    answer_divs = stub.find_elements_by_class_name('profile-question-self-answers-answer')\n",
    "    choices = [a.text for a in answer_divs]\n",
    "    our_answer = [a.get_attribute('class').endswith('--isYourAnswer') for a in answer_divs].index(True)\n",
    "    acceptable = [not a.get_attribute('class').endswith('--isUnacceptable') for a in answer_divs]\n",
    "    \n",
    "    return {                       \\\n",
    "        'q_text':text,             \\\n",
    "        'choices': choices,        \\\n",
    "        'our_answer': our_answer,  \\\n",
    "        'acceptable': acceptable,  \\\n",
    "        'importance': 1            \\\n",
    "    }\n",
    "#TODO change answer_initial_questions return"
   ]
  },
  {
   "cell_type": "code",
   "execution_count": 44,
   "metadata": {},
   "outputs": [
    {
     "data": {
      "text/plain": [
       "{'q_text': 'Are you a good trivia team member?',\n",
       " 'choices': ['You bet',\n",
       "  'Only for certain topics',\n",
       "  'No, please help me',\n",
       "  'I hate trivia'],\n",
       " 'our_answer': 2,\n",
       " 'acceptable': [False, False, True, False],\n",
       " 'importance': 1}"
      ]
     },
     "execution_count": 44,
     "metadata": {},
     "output_type": "execute_result"
    }
   ],
   "source": [
    "get_data_from_answer_stub(stub)"
   ]
  },
  {
   "cell_type": "code",
   "execution_count": 39,
   "metadata": {},
   "outputs": [],
   "source": [
    "arr=[True, False, True]"
   ]
  },
  {
   "cell_type": "code",
   "execution_count": 42,
   "metadata": {},
   "outputs": [
    {
     "data": {
      "text/plain": [
       "[False, True, False]"
      ]
     },
     "execution_count": 42,
     "metadata": {},
     "output_type": "execute_result"
    }
   ],
   "source": [
    "[not a for a in arr]"
   ]
  },
  {
   "cell_type": "code",
   "execution_count": 41,
   "metadata": {},
   "outputs": [
    {
     "name": "stdout",
     "output_type": "stream",
     "text": [
      "/bin/sh: 1: arr: not found\r\n"
     ]
    }
   ],
   "source": [
    "arr"
   ]
  },
  {
   "cell_type": "code",
   "execution_count": null,
   "metadata": {},
   "outputs": [],
   "source": []
  },
  {
   "cell_type": "code",
   "execution_count": null,
   "metadata": {},
   "outputs": [],
   "source": []
  },
  {
   "cell_type": "code",
   "execution_count": null,
   "metadata": {},
   "outputs": [],
   "source": []
  },
  {
   "cell_type": "code",
   "execution_count": null,
   "metadata": {},
   "outputs": [],
   "source": []
  },
  {
   "cell_type": "code",
   "execution_count": null,
   "metadata": {},
   "outputs": [],
   "source": []
  },
  {
   "cell_type": "code",
   "execution_count": null,
   "metadata": {},
   "outputs": [],
   "source": []
  },
  {
   "cell_type": "markdown",
   "metadata": {},
   "source": [
    "<div class=\"ab-in-app-message  ab-show  ab-modal-interactions graphic ab-modal ab-effect-modal\" style=\"color: rgb(0, 0, 0);\"><div class=\"ab-message-buttons\"><button class=\"ab-message-button\" type=\"button\" style=\"background-color: rgb(5, 0, 190); color: rgb(255, 255, 255);\">SEE WHO LIKES YOU</button></div><div class=\"ab-mask\"></div><div class=\"ab-background\" style=\"background-color: rgb(244, 244, 247);\"></div><i aria-label=\"Close Message\" tabindex=\"0\" role=\"button\" class=\"fa fa-times ab-close-button fa-times-circle\" style=\"color: rgb(196, 196, 196);\"></i><div class=\"ab-image-area\"><img src=\"https://appboy-images.com/appboy/communication/marketing/slide_up/slide_up_message_parameters/images/5dfa92b57b648d63299826cb/5b5a3bd79008d9b1e443c1c7a990be64f6ddef73/original.png?1576785994\"></div><div class=\"ab-message-text center-aligned\"></div></div>"
   ]
  },
  {
   "cell_type": "code",
   "execution_count": null,
   "metadata": {},
   "outputs": [],
   "source": []
  }
 ],
 "metadata": {
  "kernelspec": {
   "display_name": "Python 3",
   "language": "python",
   "name": "python3"
  },
  "language_info": {
   "codemirror_mode": {
    "name": "ipython",
    "version": 3
   },
   "file_extension": ".py",
   "mimetype": "text/x-python",
   "name": "python",
   "nbconvert_exporter": "python",
   "pygments_lexer": "ipython3",
   "version": "3.7.5"
  }
 },
 "nbformat": 4,
 "nbformat_minor": 2
}
